{
 "cells": [
  {
   "cell_type": "code",
   "execution_count": 1,
   "id": "11d1af69",
   "metadata": {},
   "outputs": [],
   "source": [
    "import os"
   ]
  },
  {
   "cell_type": "code",
   "execution_count": 2,
   "id": "1c04d2ac",
   "metadata": {},
   "outputs": [
    {
     "name": "stdout",
     "output_type": "stream",
     "text": [
      "Ganesha, also known as Ganapati, is one of the most revered and beloved deities in Hinduism. He is the remover of obstacles, the patron of knowledge and wisdom, and the god of good fortune. Ganesha is often depicted as a rotund figure with an elephant's head, a large belly, and four arms.\n",
      "\n",
      "In Hindu mythology, Ganesha is the son of Lord Shiva and Goddess Parvati. According to legend, Parvati created Ganesha from clay and breathed life into him, and Shiva, unaware that Ganesha was his son, beheaded him. Later, Shiva sent his attendants to find the head of the first living being they encountered, which happened to be an elephant. The elephant's head was then attached to Ganesha's body, and he was restored to life.\n",
      "\n",
      "Ganesha is often worshiped at the beginning of new endeavors, such as weddings, business ventures, and educational pursuits, as he is believed to remove obstacles and bring good fortune. He is also associated with the arts, sciences, and literature, and is often invoked by students, artists, and writers seeking inspiration and guidance.\n",
      "\n",
      "Some of the key attributes and symbols associated with Ganesha include:\n",
      "\n",
      "* The elephant head, which represents wisdom, strength, and good fortune\n",
      "* The large belly, which symbolizes prosperity and abundance\n",
      "* The four arms, which represent the four directions (north, south, east, and west) and the four Vedas (ancient Hindu scriptures)\n",
      "* The modak (sweet rice ball), which is his favorite food and a symbol of spiritual nourishment\n",
      "* The mouse, which is his vehicle and represents the power of humility and adaptability\n",
      "\n",
      "Ganesha is celebrated in many festivals and rituals throughout the year, including Ganesh Chaturthi, which is a 10-day festival honoring his birth. He is also worshiped in many temples and shrines, and his image is often found in homes and workplaces, where he is revered as a symbol of good fortune and prosperity.\n"
     ]
    }
   ],
   "source": [
    "from langchain_groq import ChatGroq\n",
    "llm = ChatGroq(\n",
    "    temperature = 0,\n",
    "    groq_api_key = os.environ.get(\"GROQ_API_KEY\"),\n",
    "    model_name = \"llama-3.3-70b-versatile\"\n",
    ")\n",
    "\n",
    "response = llm.invoke(\"What is Ganesha?\")\n",
    "print(response.content)"
   ]
  },
  {
   "cell_type": "code",
   "execution_count": 4,
   "id": "bfe8f464",
   "metadata": {},
   "outputs": [
    {
     "name": "stdout",
     "output_type": "stream",
     "text": [
      "Software Engineer II, Machine Learning Deployment, Silicon — Google CareersCareersSkip navigation linkshomehomeHomeHomework_outlinework_outlineJobsJobsnoogler_hatnoogler_hatStudentsStudentsgooglegoogleHow we workHow we workhandymanhandymanHow we hireHow we hireperson_outlineperson_outlineYour careerYour careerhelp_outlineHelp linkfeedbackSend feedbackmore_vert HelpSend FeedbackSign inCareershomeHomework_outlineJobsexpand_morenoogler_hatStudentsexpand_moregoogleHow we workexpand_morehandymanHow we hireexpand_moreperson_outlineYour careerexpand_morejob detailsarrow_backBack to jobs searchJobs search results3,107  jobs matchedSoftware Engineer III, Infrastructure, CoreBengaluru, Karnataka, IndiaPersistent Disk Capacity Team LeaderKirkland, WA, USASenior Software Engineer, Android PartnerWarsaw, PolandSenior Software Engineer, Core Data, Data IndexingBengaluru, Karnataka, IndiaSoftware Engineer III, Google CloudBengaluru, Karnataka, India; Pune, Maharashtra, IndiaProduct Operations Lead, Google Play Apps and GamesMountain View, CA, USASenior Account Manager, Large Customer Sales (English, Hebrew)Dublin, IrelandGrowth Manager, App Developer Sales (English, Mandarin)Shanghai, China; Beijing, ChinaSecurity Sales Specialist, Small/Medium Businesses (German)Dublin, IrelandNetwork RTL Design Engineer, Google CloudTel Aviv, Israel; Haifa, IsraelSoftware Engineer, Engineering Productivity, Google CastNew Taipei, Banqiao District, New Taipei City, Taiwan; Taipei, TaiwanCustomer Engineer, Infrastructure Modernization, Public SectorBucharest, RomaniaSoftware Engineer II, Multiplatform, Server Driven UI (English)Mexico City, CDMX, MexicoSoftware Engineer III, Audio Machine Learning, PixelNew Taipei, Banqiao District, New Taipei City, TaiwanProduct Engineer, ARM Servers and Storage SystemsSunnyvale, CA, USAEngineering Manager, Unified Autoscaling TeamWarsaw, PolandAccount Strategist, SBS Engage, GCS, (Ukrainian, English)Dublin, IrelandSoftware Engineer, gReach Program for People with Disabilities (장애인 채용)Seoul, South KoreaIncident Response Security Consultant, Mandiant, Google CloudRiyadh Saudi ArabiaAssociate, Business Operations and StrategySan Francisco, CA, USA; Mountain View, CA, USA1‑20 of 3107navigate_nextFollow Life at Google on More about usAbout usopen_in_newContact usopen_in_newPressopen_in_newRelated InformationInvestor relationsopen_in_newBlogopen_in_newEqual OpportunityGoogle is proud to be an equal opportunity and affirmative action employer. We are committed to building a workforce that is representative of the users we serve, creating a culture of belonging, and providing an equal employment opportunity regardless of race, creed, color, religion, gender, sexual orientation, gender identity/expression, national origin, disability, age, genetic information, veteran status, marital status, pregnancy or related condition (including breastfeeding), expecting or parents-to-be, criminal histories consistent with legal requirements, or any other basis protected by law. See also  Google's EEO Policy, Know your rights: workplace discrimination is illegal, Belonging at Google, and How we hire.More about usexpand_moreRelated informationexpand_moreEqual opportunityexpand_morePrivacyopen_in_newApplicant & Candidate Privacyopen_in_newTermsopen_in_newhelpHelpopen_in_newarrow_backBack to jobs searchSoftware Engineer II, Machine Learning Deployment, Siliconshare linkCopy linkemailEmail a friendcorporate_fareGoogleplaceNew Taipei, Banqiao District, New Taipei City, Taiwanbar_chartEarlyEarlyExperience completing work as directed, and collaborating with teammates; developing knowledge of relevant concepts and processes.Applyshare linkCopy linkemailEmail a friendinfo_outlineXGoogle welcomes people with disabilities.Minimum qualifications:\n",
      "Bachelor’s degree or equivalent practical experience.\n",
      "1 years of experience with software development in C++ and Python.\n",
      "1 year of experience  in data structures, algorithms, and software design.\n",
      "Preferred qualifications:\n",
      "Master's degree or PhD in Computer Science or related technical field.\n",
      "Experience with machine learning frameworks (e.g., TensorFlow, PyTorch).\n",
      "Experience with performance analysis, profiling tools, or debugging.\n",
      "Knowledge of  computer architecture concepts.\n",
      "Excellent communication and collaboration skills.\n",
      "About the jobGoogle's software engineers develop the next-generation technologies that change how billions of users connect, explore, and interact with information and one another. Our products need to handle information at massive scale, and extend well beyond web search. We're looking for engineers who bring fresh ideas from all areas, including information retrieval, distributed computing, large-scale system design, networking and data storage, security, artificial intelligence, natural language processing, UI design and mobile; the list goes on and is growing every day. As a software engineer, you will work on a specific project critical to Google’s needs with opportunities to switch teams and projects as you and our fast-paced business grow and evolve. We need our engineers to be versatile, display leadership qualities and be enthusiastic to take on new problems across the full-stack as we continue to push technology forward.\n",
      "Google's mission is to organize the world's information and make it universally accessible and useful. Our team combines the best of Google AI, Software, and Hardware to create radically helpful experiences. We research, design, and develop new technologies and hardware to make computing faster, seamless, and more powerful. We aim to make people's lives better through technology.Responsibilities\n",
      "Support the deployment and optimization of Machine Learning (ML) models from third-party developers onto Google Tensor SoCs.\n",
      "Profile ML model execution on-device to identify performance bottlenecks across CPU, GPU, TPU, and memory subsystems.\n",
      "Investigate performance issues related to Tensor SoC architecture, ML frameworks, and kernel optimization.\n",
      "Implement solutions, such as code modifications or utilizing optimized libraries.\n",
      "Ensure  compilation of ML models by working with partner teams and utilizing relevant tools.\n",
      "Information collected and processed as part of your Google Careers profile, and any job applications you choose to submit is subject to Google's Applicant and Candidate Privacy Policy.Google is proud to be an equal opportunity and affirmative action employer. We are committed to building a workforce that is representative of the users we serve, creating a culture of belonging, and providing an equal employment opportunity regardless of race, creed, color, religion, gender, sexual orientation, gender identity/expression, national origin, disability, age, genetic information, veteran status, marital status, pregnancy or related condition (including breastfeeding), expecting or parents-to-be, criminal histories consistent with legal requirements, or any other basis protected by law. See also  Google's EEO Policy, Know your rights: workplace discrimination is illegal, Belonging at Google, and How we hire.If you have a need that requires accommodation, please let us know by completing our Accommodations for Applicants form.Google is a global company and, in order to facilitate efficient collaboration and communication globally, English proficiency is a requirement for all roles unless stated otherwise in the job posting.To all recruitment agencies: Google does not accept agency resumes. Please do not forward resumes to our jobs alias, Google employees, or any other organization location. Google is not responsible for any fees related to unsolicited resumes.Follow Life at Google on More about usAbout usopen_in_newContact usopen_in_newPressopen_in_newRelated InformationInvestor relationsopen_in_newBlogopen_in_newEqual OpportunityGoogle is proud to be an equal opportunity and affirmative action employer. We are committed to building a workforce that is representative of the users we serve, creating a culture of belonging, and providing an equal employment opportunity regardless of race, creed, color, religion, gender, sexual orientation, gender identity/expression, national origin, disability, age, genetic information, veteran status, marital status, pregnancy or related condition (including breastfeeding), expecting or parents-to-be, criminal histories consistent with legal requirements, or any other basis protected by law. See also  Google's EEO Policy, Know your rights: workplace discrimination is illegal, Belonging at Google, and How we hire.More about usexpand_moreRelated informationexpand_moreEqual opportunityexpand_morePrivacyopen_in_newApplicant & Candidate Privacyopen_in_newTermsopen_in_newhelpHelpopen_in_newFollow Life at Google on More about usAbout usopen_in_newContact usopen_in_newPressopen_in_newRelated InformationInvestor relationsopen_in_newBlogopen_in_newEqual OpportunityGoogle is proud to be an equal opportunity and affirmative action employer. We are committed to building a workforce that is representative of the users we serve, creating a culture of belonging, and providing an equal employment opportunity regardless of race, creed, color, religion, gender, sexual orientation, gender identity/expression, national origin, disability, age, genetic information, veteran status, marital status, pregnancy or related condition (including breastfeeding), expecting or parents-to-be, criminal histories consistent with legal requirements, or any other basis protected by law. See also  Google's EEO Policy, Know your rights: workplace discrimination is illegal, Belonging at Google, and How we hire.More about usexpand_moreRelated informationexpand_moreEqual opportunityexpand_morePrivacyopen_in_newApplicant & Candidate Privacyopen_in_newTermsopen_in_newhelpHelpopen_in_newGoogle appsMain menu\n"
     ]
    }
   ],
   "source": [
    "from langchain_community.document_loaders import WebBaseLoader\n",
    "loader = WebBaseLoader(\"https://www.google.com/about/careers/applications/jobs/results/112949224319918790-software-engineer-ii-machine-learning-deployment-silicon\")\n",
    "page_data = loader.load().pop().page_content\n",
    "print(page_data)\n",
    "     "
   ]
  },
  {
   "cell_type": "code",
   "execution_count": 5,
   "id": "e7af5fec",
   "metadata": {},
   "outputs": [
    {
     "name": "stdout",
     "output_type": "stream",
     "text": [
      "```json\n",
      "[\n",
      "  {\n",
      "    \"role\": \"Software Engineer II, Machine Learning Deployment, Silicon\",\n",
      "    \"experience\": \"1 year of experience with software development in C++ and Python, 1 year of experience in data structures, algorithms, and software design\",\n",
      "    \"skills\": [\n",
      "      \"C++\",\n",
      "      \"Python\",\n",
      "      \"Machine Learning\",\n",
      "      \"Data Structures\",\n",
      "      \"Algorithms\",\n",
      "      \"Software Design\"\n",
      "    ],\n",
      "    \"description\": \"Support the deployment and optimization of Machine Learning (ML) models from third-party developers onto Google Tensor SoCs, profile ML model execution on-device to identify performance bottlenecks, investigate performance issues, and implement solutions\"\n",
      "  },\n",
      "  {\n",
      "    \"role\": \"Software Engineer III, Infrastructure, Core\",\n",
      "    \"experience\": \"Not specified\",\n",
      "    \"skills\": [\n",
      "      \"Infrastructure\",\n",
      "      \"Core\"\n",
      "    ],\n",
      "    \"description\": \"Not specified\"\n",
      "  },\n",
      "  {\n",
      "    \"role\": \"Senior Software Engineer, Android Partner\",\n",
      "    \"experience\": \"Not specified\",\n",
      "    \"skills\": [\n",
      "      \"Android\",\n",
      "      \"Partner\"\n",
      "    ],\n",
      "    \"description\": \"Not specified\"\n",
      "  },\n",
      "  {\n",
      "    \"role\": \"Senior Software Engineer, Core Data, Data Indexing\",\n",
      "    \"experience\": \"Not specified\",\n",
      "    \"skills\": [\n",
      "      \"Core Data\",\n",
      "      \"Data Indexing\"\n",
      "    ],\n",
      "    \"description\": \"Not specified\"\n",
      "  },\n",
      "  {\n",
      "    \"role\": \"Software Engineer III, Google Cloud\",\n",
      "    \"experience\": \"Not specified\",\n",
      "    \"skills\": [\n",
      "      \"Google Cloud\"\n",
      "    ],\n",
      "    \"description\": \"Not specified\"\n",
      "  },\n",
      "  {\n",
      "    \"role\": \"Product Operations Lead, Google Play Apps and Games\",\n",
      "    \"experience\": \"Not specified\",\n",
      "    \"skills\": [\n",
      "      \"Product Operations\",\n",
      "      \"Google Play\",\n",
      "      \"Apps\",\n",
      "      \"Games\"\n",
      "    ],\n",
      "    \"description\": \"Not specified\"\n",
      "  },\n",
      "  {\n",
      "    \"role\": \"Senior Account Manager, Large Customer Sales\",\n",
      "    \"experience\": \"Not specified\",\n",
      "    \"skills\": [\n",
      "      \"Account Management\",\n",
      "      \"Large Customer Sales\"\n",
      "    ],\n",
      "    \"description\": \"Not specified\"\n",
      "  },\n",
      "  {\n",
      "    \"role\": \"Growth Manager, App Developer Sales\",\n",
      "    \"experience\": \"Not specified\",\n",
      "    \"skills\": [\n",
      "      \"Growth Management\",\n",
      "      \"App Developer Sales\"\n",
      "    ],\n",
      "    \"description\": \"Not specified\"\n",
      "  },\n",
      "  {\n",
      "    \"role\": \"Security Sales Specialist, Small/Medium Businesses\",\n",
      "    \"experience\": \"Not specified\",\n",
      "    \"skills\": [\n",
      "      \"Security Sales\",\n",
      "      \"Small/Medium Businesses\"\n",
      "    ],\n",
      "    \"description\": \"Not specified\"\n",
      "  },\n",
      "  {\n",
      "    \"role\": \"Network RTL Design Engineer, Google Cloud\",\n",
      "    \"experience\": \"Not specified\",\n",
      "    \"skills\": [\n",
      "      \"Network RTL Design\",\n",
      "      \"Google Cloud\"\n",
      "    ],\n",
      "    \"description\": \"Not specified\"\n",
      "  },\n",
      "  {\n",
      "    \"role\": \"Customer Engineer, Infrastructure Modernization, Public Sector\",\n",
      "    \"experience\": \"Not specified\",\n",
      "    \"skills\": [\n",
      "      \"Customer Engineering\",\n",
      "      \"Infrastructure Modernization\",\n",
      "      \"Public Sector\"\n",
      "    ],\n",
      "    \"description\": \"Not specified\"\n",
      "  },\n",
      "  {\n",
      "    \"role\": \"Software Engineer II, Multiplatform, Server Driven UI\",\n",
      "    \"experience\": \"Not specified\",\n",
      "    \"skills\": [\n",
      "      \"Multiplatform\",\n",
      "      \"Server Driven UI\"\n",
      "    ],\n",
      "    \"description\": \"Not specified\"\n",
      "  },\n",
      "  {\n",
      "    \"role\": \"Software Engineer III, Audio Machine Learning, Pixel\",\n",
      "    \"experience\": \"Not specified\",\n",
      "    \"skills\": [\n",
      "      \"Audio Machine Learning\",\n",
      "      \"Pixel\"\n",
      "    ],\n",
      "    \"description\": \"Not specified\"\n",
      "  },\n",
      "  {\n",
      "    \"role\": \"Product Engineer, ARM Servers and Storage Systems\",\n",
      "    \"experience\": \"Not specified\",\n",
      "    \"skills\": [\n",
      "      \"Product Engineering\",\n",
      "      \"ARM Servers\",\n",
      "      \"Storage Systems\"\n",
      "    ],\n",
      "    \"description\": \"Not specified\"\n",
      "  },\n",
      "  {\n",
      "    \"role\": \"Engineering Manager, Unified Autoscaling Team\",\n",
      "    \"experience\": \"Not specified\",\n",
      "    \"skills\": [\n",
      "      \"Engineering Management\",\n",
      "      \"Unified Autoscaling\"\n",
      "    ],\n",
      "    \"description\": \"Not specified\"\n",
      "  },\n",
      "  {\n",
      "    \"role\": \"Account Strategist, SBS Engage, GCS\",\n",
      "    \"experience\": \"Not specified\",\n",
      "    \"skills\": [\n",
      "      \"Account Strategy\",\n",
      "      \"SBS Engage\",\n",
      "      \"GCS\"\n",
      "    ],\n",
      "    \"description\": \"Not specified\"\n",
      "  },\n",
      "  {\n",
      "    \"role\": \"Software Engineer, gReach Program for People with Disabilities\",\n",
      "    \"experience\": \"Not specified\",\n",
      "    \"skills\": [\n",
      "      \"Software Engineering\",\n",
      "      \"gReach Program\"\n",
      "    ],\n",
      "    \"description\": \"Not specified\"\n",
      "  },\n",
      "  {\n",
      "    \"role\": \"Incident Response Security Consultant, Mandiant, Google Cloud\",\n",
      "    \"experience\": \"Not specified\",\n",
      "    \"skills\": [\n",
      "      \"Incident Response\",\n",
      "      \"Security Consulting\",\n",
      "      \"Mandiant\",\n",
      "      \"Google Cloud\"\n",
      "    ],\n",
      "    \"description\": \"Not specified\"\n",
      "  },\n",
      "  {\n",
      "    \"role\": \"Associate, Business Operations and Strategy\",\n",
      "    \"experience\": \"Not specified\",\n",
      "    \"skills\": [\n",
      "      \"Business Operations\",\n",
      "      \"Strategy\"\n",
      "    ],\n",
      "    \"description\": \"Not specified\"\n",
      "  }\n",
      "]\n",
      "```\n"
     ]
    }
   ],
   "source": [
    "from langchain_core.prompts import PromptTemplate\n",
    "prompt_extract = PromptTemplate.from_template(\"\"\"\n",
    "        ### SCRAPED TEXT FROM WEBSITE:\n",
    "        {page_data}\n",
    "        ### INSTRUCTION:\n",
    "        The scraped text is from the career's page of a website.\n",
    "        Your job is to extract the job postings and return them in JSON format containing the\n",
    "        following keys: `role`, `experience`, `skills` and `description`.\n",
    "        Only return the valid JSON.\n",
    "        ### VALID JSON (NO PREAMBLE):\n",
    "        \"\"\")\n",
    "chain_extract = prompt_extract | llm\n",
    "res = chain_extract.invoke(input = {'page_data': page_data})\n",
    "print(res.content)"
   ]
  },
  {
   "cell_type": "code",
   "execution_count": 6,
   "id": "30bd222a",
   "metadata": {},
   "outputs": [
    {
     "name": "stdout",
     "output_type": "stream",
     "text": [
      "[{'role': 'Software Engineer II, Machine Learning Deployment, Silicon', 'experience': '1 year of experience with software development in C++ and Python, 1 year of experience in data structures, algorithms, and software design', 'skills': ['C++', 'Python', 'Machine Learning', 'Data Structures', 'Algorithms', 'Software Design'], 'description': 'Support the deployment and optimization of Machine Learning (ML) models from third-party developers onto Google Tensor SoCs, profile ML model execution on-device to identify performance bottlenecks, investigate performance issues, and implement solutions'}, {'role': 'Software Engineer III, Infrastructure, Core', 'experience': 'Not specified', 'skills': ['Infrastructure', 'Core'], 'description': 'Not specified'}, {'role': 'Senior Software Engineer, Android Partner', 'experience': 'Not specified', 'skills': ['Android', 'Partner'], 'description': 'Not specified'}, {'role': 'Senior Software Engineer, Core Data, Data Indexing', 'experience': 'Not specified', 'skills': ['Core Data', 'Data Indexing'], 'description': 'Not specified'}, {'role': 'Software Engineer III, Google Cloud', 'experience': 'Not specified', 'skills': ['Google Cloud'], 'description': 'Not specified'}, {'role': 'Product Operations Lead, Google Play Apps and Games', 'experience': 'Not specified', 'skills': ['Product Operations', 'Google Play', 'Apps', 'Games'], 'description': 'Not specified'}, {'role': 'Senior Account Manager, Large Customer Sales', 'experience': 'Not specified', 'skills': ['Account Management', 'Large Customer Sales'], 'description': 'Not specified'}, {'role': 'Growth Manager, App Developer Sales', 'experience': 'Not specified', 'skills': ['Growth Management', 'App Developer Sales'], 'description': 'Not specified'}, {'role': 'Security Sales Specialist, Small/Medium Businesses', 'experience': 'Not specified', 'skills': ['Security Sales', 'Small/Medium Businesses'], 'description': 'Not specified'}, {'role': 'Network RTL Design Engineer, Google Cloud', 'experience': 'Not specified', 'skills': ['Network RTL Design', 'Google Cloud'], 'description': 'Not specified'}, {'role': 'Customer Engineer, Infrastructure Modernization, Public Sector', 'experience': 'Not specified', 'skills': ['Customer Engineering', 'Infrastructure Modernization', 'Public Sector'], 'description': 'Not specified'}, {'role': 'Software Engineer II, Multiplatform, Server Driven UI', 'experience': 'Not specified', 'skills': ['Multiplatform', 'Server Driven UI'], 'description': 'Not specified'}, {'role': 'Software Engineer III, Audio Machine Learning, Pixel', 'experience': 'Not specified', 'skills': ['Audio Machine Learning', 'Pixel'], 'description': 'Not specified'}, {'role': 'Product Engineer, ARM Servers and Storage Systems', 'experience': 'Not specified', 'skills': ['Product Engineering', 'ARM Servers', 'Storage Systems'], 'description': 'Not specified'}, {'role': 'Engineering Manager, Unified Autoscaling Team', 'experience': 'Not specified', 'skills': ['Engineering Management', 'Unified Autoscaling'], 'description': 'Not specified'}, {'role': 'Account Strategist, SBS Engage, GCS', 'experience': 'Not specified', 'skills': ['Account Strategy', 'SBS Engage', 'GCS'], 'description': 'Not specified'}, {'role': 'Software Engineer, gReach Program for People with Disabilities', 'experience': 'Not specified', 'skills': ['Software Engineering', 'gReach Program'], 'description': 'Not specified'}, {'role': 'Incident Response Security Consultant, Mandiant, Google Cloud', 'experience': 'Not specified', 'skills': ['Incident Response', 'Security Consulting', 'Mandiant', 'Google Cloud'], 'description': 'Not specified'}, {'role': 'Associate, Business Operations and Strategy', 'experience': 'Not specified', 'skills': ['Business Operations', 'Strategy'], 'description': 'Not specified'}]\n"
     ]
    }
   ],
   "source": [
    "from langchain_core.output_parsers import JsonOutputParser\n",
    "json_parser = JsonOutputParser()\n",
    "json_res = json_parser.parse(res.content)\n",
    "print(json_res)"
   ]
  },
  {
   "cell_type": "code",
   "execution_count": 16,
   "id": "e211d42e",
   "metadata": {},
   "outputs": [
    {
     "data": {
      "text/html": [
       "<div>\n",
       "<style scoped>\n",
       "    .dataframe tbody tr th:only-of-type {\n",
       "        vertical-align: middle;\n",
       "    }\n",
       "\n",
       "    .dataframe tbody tr th {\n",
       "        vertical-align: top;\n",
       "    }\n",
       "\n",
       "    .dataframe thead th {\n",
       "        text-align: right;\n",
       "    }\n",
       "</style>\n",
       "<table border=\"1\" class=\"dataframe\">\n",
       "  <thead>\n",
       "    <tr style=\"text-align: right;\">\n",
       "      <th></th>\n",
       "      <th>Technology</th>\n",
       "    </tr>\n",
       "  </thead>\n",
       "  <tbody>\n",
       "    <tr>\n",
       "      <th>0</th>\n",
       "      <td>Python, MySQL, PowerBI, MongoDB</td>\n",
       "    </tr>\n",
       "    <tr>\n",
       "      <th>1</th>\n",
       "      <td>Machine Learning, Python, Tensorflow, Pytorch</td>\n",
       "    </tr>\n",
       "    <tr>\n",
       "      <th>2</th>\n",
       "      <td>Large Language Models, Pytorch, Python</td>\n",
       "    </tr>\n",
       "    <tr>\n",
       "      <th>3</th>\n",
       "      <td>Deep Learning, Keras Python</td>\n",
       "    </tr>\n",
       "    <tr>\n",
       "      <th>4</th>\n",
       "      <td>Cloud Computing, AWS, Google Cloud, Python</td>\n",
       "    </tr>\n",
       "    <tr>\n",
       "      <th>5</th>\n",
       "      <td>Python, R, Excel, PowerBI</td>\n",
       "    </tr>\n",
       "    <tr>\n",
       "      <th>6</th>\n",
       "      <td>Web development, React, Node.js, Flutter</td>\n",
       "    </tr>\n",
       "    <tr>\n",
       "      <th>7</th>\n",
       "      <td>AI, Python, Scikit-learn</td>\n",
       "    </tr>\n",
       "    <tr>\n",
       "      <th>8</th>\n",
       "      <td>Data engineering, Python, SQL</td>\n",
       "    </tr>\n",
       "    <tr>\n",
       "      <th>9</th>\n",
       "      <td>Git, GitHub, Docker, Mlflow, Python</td>\n",
       "    </tr>\n",
       "    <tr>\n",
       "      <th>10</th>\n",
       "      <td>Computer Vision, NLP, AutoML</td>\n",
       "    </tr>\n",
       "    <tr>\n",
       "      <th>11</th>\n",
       "      <td>Python, Flask, FastAPI</td>\n",
       "    </tr>\n",
       "  </tbody>\n",
       "</table>\n",
       "</div>"
      ],
      "text/plain": [
       "                                       Technology\n",
       "0                 Python, MySQL, PowerBI, MongoDB\n",
       "1   Machine Learning, Python, Tensorflow, Pytorch\n",
       "2          Large Language Models, Pytorch, Python\n",
       "3                     Deep Learning, Keras Python\n",
       "4      Cloud Computing, AWS, Google Cloud, Python\n",
       "5                       Python, R, Excel, PowerBI\n",
       "6        Web development, React, Node.js, Flutter\n",
       "7                        AI, Python, Scikit-learn\n",
       "8                   Data engineering, Python, SQL\n",
       "9             Git, GitHub, Docker, Mlflow, Python\n",
       "10                   Computer Vision, NLP, AutoML\n",
       "11                         Python, Flask, FastAPI"
      ]
     },
     "execution_count": 16,
     "metadata": {},
     "output_type": "execute_result"
    }
   ],
   "source": [
    "import pandas as pd\n",
    "df = pd.read_csv(\"portfolio.csv\")\n",
    "df"
   ]
  },
  {
   "cell_type": "code",
   "execution_count": 12,
   "id": "5326bd69",
   "metadata": {},
   "outputs": [],
   "source": [
    "import chromadb\n",
    "\n",
    "client = chromadb.Client()\n",
    "collections = client.create_collection(name=\"interview_1\")"
   ]
  },
  {
   "cell_type": "code",
   "execution_count": 13,
   "id": "386e0326",
   "metadata": {},
   "outputs": [
    {
     "name": "stderr",
     "output_type": "stream",
     "text": [
      "C:\\Users\\Gouri\\.cache\\chroma\\onnx_models\\all-MiniLM-L6-v2\\onnx.tar.gz: 100%|██████████| 79.3M/79.3M [00:41<00:00, 1.99MiB/s]  \n"
     ]
    }
   ],
   "source": [
    "\n",
    "collections.add(\n",
    "    documents = [\n",
    "        \"This document is about Kedarnath\",\n",
    "        \"This document is about Maharastra\"\n",
    "    ],\n",
    "\n",
    "    ids = ['id1', 'id2'],\n",
    "    metadatas = [\n",
    "        {\"url\": \"https://shrikedarnathcharitabletrust.uk.gov.in/index.html\"},\n",
    "        {\"url\": \"https://www.dagdushethganpati.com/\"},\n",
    "    ]\n",
    ")\n",
    "     "
   ]
  },
  {
   "cell_type": "code",
   "execution_count": 17,
   "id": "2a2de88c",
   "metadata": {},
   "outputs": [],
   "source": [
    "all_docs = collections.get()"
   ]
  },
  {
   "cell_type": "code",
   "execution_count": 18,
   "id": "3b97c5d4",
   "metadata": {},
   "outputs": [
    {
     "data": {
      "text/plain": [
       "{'ids': ['id1', 'id2'],\n",
       " 'embeddings': None,\n",
       " 'documents': ['This document is about Kedarnath',\n",
       "  'This document is about Maharastra'],\n",
       " 'uris': None,\n",
       " 'included': ['metadatas', 'documents'],\n",
       " 'data': None,\n",
       " 'metadatas': [{'url': 'https://shrikedarnathcharitabletrust.uk.gov.in/index.html'},\n",
       "  {'url': 'https://www.dagdushethganpati.com/'}]}"
      ]
     },
     "execution_count": 18,
     "metadata": {},
     "output_type": "execute_result"
    }
   ],
   "source": [
    "all_docs"
   ]
  },
  {
   "cell_type": "code",
   "execution_count": 19,
   "id": "9a9bddaf",
   "metadata": {},
   "outputs": [
    {
     "data": {
      "text/plain": [
       "{'ids': ['id1'],\n",
       " 'embeddings': None,\n",
       " 'documents': ['This document is about Kedarnath'],\n",
       " 'uris': None,\n",
       " 'included': ['metadatas', 'documents'],\n",
       " 'data': None,\n",
       " 'metadatas': [{'url': 'https://shrikedarnathcharitabletrust.uk.gov.in/index.html'}]}"
      ]
     },
     "execution_count": 19,
     "metadata": {},
     "output_type": "execute_result"
    }
   ],
   "source": [
    "\n",
    "documents = collections.get(ids = ['id1'])\n",
    "documents"
   ]
  },
  {
   "cell_type": "code",
   "execution_count": 20,
   "id": "0eeeaaa1",
   "metadata": {},
   "outputs": [],
   "source": [
    "\n",
    "results = collections.query(\n",
    "    query_texts = ['Query is about varanasi'],\n",
    "    n_results = 2\n",
    ")"
   ]
  },
  {
   "cell_type": "code",
   "execution_count": 21,
   "id": "07b1fa49",
   "metadata": {},
   "outputs": [
    {
     "data": {
      "text/plain": [
       "{'ids': [['id1', 'id2']],\n",
       " 'embeddings': None,\n",
       " 'documents': [['This document is about Kedarnath',\n",
       "   'This document is about Maharastra']],\n",
       " 'uris': None,\n",
       " 'included': ['metadatas', 'documents', 'distances'],\n",
       " 'data': None,\n",
       " 'metadatas': [[{'url': 'https://shrikedarnathcharitabletrust.uk.gov.in/index.html'},\n",
       "   {'url': 'https://www.dagdushethganpati.com/'}]],\n",
       " 'distances': [[1.4969592094421387, 1.5310628414154053]]}"
      ]
     },
     "execution_count": 21,
     "metadata": {},
     "output_type": "execute_result"
    }
   ],
   "source": [
    "results"
   ]
  },
  {
   "cell_type": "code",
   "execution_count": 22,
   "id": "be5b994d",
   "metadata": {},
   "outputs": [],
   "source": [
    "results = collections.query(\n",
    "    query_texts = ['Query is about Ganpati Visarjan'],\n",
    "    n_results = 2\n",
    ")"
   ]
  },
  {
   "cell_type": "code",
   "execution_count": 23,
   "id": "6b521e88",
   "metadata": {},
   "outputs": [
    {
     "data": {
      "text/plain": [
       "{'ids': [['id2', 'id1']],\n",
       " 'embeddings': None,\n",
       " 'documents': [['This document is about Maharastra',\n",
       "   'This document is about Kedarnath']],\n",
       " 'uris': None,\n",
       " 'included': ['metadatas', 'documents', 'distances'],\n",
       " 'data': None,\n",
       " 'metadatas': [[{'url': 'https://www.dagdushethganpati.com/'},\n",
       "   {'url': 'https://shrikedarnathcharitabletrust.uk.gov.in/index.html'}]],\n",
       " 'distances': [[1.0310205221176147, 1.1611043214797974]]}"
      ]
     },
     "execution_count": 23,
     "metadata": {},
     "output_type": "execute_result"
    }
   ],
   "source": [
    "results"
   ]
  },
  {
   "cell_type": "code",
   "execution_count": 24,
   "id": "adfdbe23",
   "metadata": {},
   "outputs": [],
   "source": [
    "import uuid\n",
    "import chromadb\n",
    "\n",
    "client = chromadb.PersistentClient()\n",
    "collections = client.get_or_create_collection(name = \"portfolio_data\")"
   ]
  },
  {
   "cell_type": "code",
   "execution_count": 25,
   "id": "f41cd3f2",
   "metadata": {},
   "outputs": [
    {
     "data": {
      "text/html": [
       "<div>\n",
       "<style scoped>\n",
       "    .dataframe tbody tr th:only-of-type {\n",
       "        vertical-align: middle;\n",
       "    }\n",
       "\n",
       "    .dataframe tbody tr th {\n",
       "        vertical-align: top;\n",
       "    }\n",
       "\n",
       "    .dataframe thead th {\n",
       "        text-align: right;\n",
       "    }\n",
       "</style>\n",
       "<table border=\"1\" class=\"dataframe\">\n",
       "  <thead>\n",
       "    <tr style=\"text-align: right;\">\n",
       "      <th></th>\n",
       "      <th>Technology</th>\n",
       "    </tr>\n",
       "  </thead>\n",
       "  <tbody>\n",
       "    <tr>\n",
       "      <th>0</th>\n",
       "      <td>Python, MySQL, PowerBI, MongoDB</td>\n",
       "    </tr>\n",
       "    <tr>\n",
       "      <th>1</th>\n",
       "      <td>Machine Learning, Python, Tensorflow, Pytorch</td>\n",
       "    </tr>\n",
       "    <tr>\n",
       "      <th>2</th>\n",
       "      <td>Large Language Models, Pytorch, Python</td>\n",
       "    </tr>\n",
       "    <tr>\n",
       "      <th>3</th>\n",
       "      <td>Deep Learning, Keras Python</td>\n",
       "    </tr>\n",
       "    <tr>\n",
       "      <th>4</th>\n",
       "      <td>Cloud Computing, AWS, Google Cloud, Python</td>\n",
       "    </tr>\n",
       "    <tr>\n",
       "      <th>5</th>\n",
       "      <td>Python, R, Excel, PowerBI</td>\n",
       "    </tr>\n",
       "    <tr>\n",
       "      <th>6</th>\n",
       "      <td>Web development, React, Node.js, Flutter</td>\n",
       "    </tr>\n",
       "    <tr>\n",
       "      <th>7</th>\n",
       "      <td>AI, Python, Scikit-learn</td>\n",
       "    </tr>\n",
       "    <tr>\n",
       "      <th>8</th>\n",
       "      <td>Data engineering, Python, SQL</td>\n",
       "    </tr>\n",
       "    <tr>\n",
       "      <th>9</th>\n",
       "      <td>Git, GitHub, Docker, Mlflow, Python</td>\n",
       "    </tr>\n",
       "    <tr>\n",
       "      <th>10</th>\n",
       "      <td>Computer Vision, NLP, AutoML</td>\n",
       "    </tr>\n",
       "    <tr>\n",
       "      <th>11</th>\n",
       "      <td>Python, Flask, FastAPI</td>\n",
       "    </tr>\n",
       "  </tbody>\n",
       "</table>\n",
       "</div>"
      ],
      "text/plain": [
       "                                       Technology\n",
       "0                 Python, MySQL, PowerBI, MongoDB\n",
       "1   Machine Learning, Python, Tensorflow, Pytorch\n",
       "2          Large Language Models, Pytorch, Python\n",
       "3                     Deep Learning, Keras Python\n",
       "4      Cloud Computing, AWS, Google Cloud, Python\n",
       "5                       Python, R, Excel, PowerBI\n",
       "6        Web development, React, Node.js, Flutter\n",
       "7                        AI, Python, Scikit-learn\n",
       "8                   Data engineering, Python, SQL\n",
       "9             Git, GitHub, Docker, Mlflow, Python\n",
       "10                   Computer Vision, NLP, AutoML\n",
       "11                         Python, Flask, FastAPI"
      ]
     },
     "execution_count": 25,
     "metadata": {},
     "output_type": "execute_result"
    }
   ],
   "source": [
    "df"
   ]
  },
  {
   "cell_type": "code",
   "execution_count": 26,
   "id": "538d0674",
   "metadata": {},
   "outputs": [],
   "source": [
    "if not collections.count():\n",
    "  for i, row in  df.iterrows():\n",
    "    collections.add(documents = row['Technology'], ids =[str(uuid.uuid4())])"
   ]
  },
  {
   "cell_type": "code",
   "execution_count": 27,
   "id": "df400c76",
   "metadata": {},
   "outputs": [
    {
     "data": {
      "text/plain": [
       "[['Data engineering, Python, SQL', 'AI, Python, Scikit-learn'],\n",
       " ['Web development, React, Node.js, Flutter', 'AI, Python, Scikit-learn']]"
      ]
     },
     "execution_count": 27,
     "metadata": {},
     "output_type": "execute_result"
    }
   ],
   "source": [
    "tech = collections.query(query_texts=['Experience in Python', 'React'], n_results = 2, ).get('documents', [])\n",
    "tech"
   ]
  },
  {
   "cell_type": "code",
   "execution_count": 28,
   "id": "ddf22299",
   "metadata": {},
   "outputs": [
    {
     "data": {
      "text/plain": [
       "[{'role': 'Software Engineer II, Machine Learning Deployment, Silicon',\n",
       "  'experience': '1 year of experience with software development in C++ and Python, 1 year of experience in data structures, algorithms, and software design',\n",
       "  'skills': ['C++',\n",
       "   'Python',\n",
       "   'Machine Learning',\n",
       "   'Data Structures',\n",
       "   'Algorithms',\n",
       "   'Software Design'],\n",
       "  'description': 'Support the deployment and optimization of Machine Learning (ML) models from third-party developers onto Google Tensor SoCs, profile ML model execution on-device to identify performance bottlenecks, investigate performance issues, and implement solutions'},\n",
       " {'role': 'Software Engineer III, Infrastructure, Core',\n",
       "  'experience': 'Not specified',\n",
       "  'skills': ['Infrastructure', 'Core'],\n",
       "  'description': 'Not specified'},\n",
       " {'role': 'Senior Software Engineer, Android Partner',\n",
       "  'experience': 'Not specified',\n",
       "  'skills': ['Android', 'Partner'],\n",
       "  'description': 'Not specified'},\n",
       " {'role': 'Senior Software Engineer, Core Data, Data Indexing',\n",
       "  'experience': 'Not specified',\n",
       "  'skills': ['Core Data', 'Data Indexing'],\n",
       "  'description': 'Not specified'},\n",
       " {'role': 'Software Engineer III, Google Cloud',\n",
       "  'experience': 'Not specified',\n",
       "  'skills': ['Google Cloud'],\n",
       "  'description': 'Not specified'},\n",
       " {'role': 'Product Operations Lead, Google Play Apps and Games',\n",
       "  'experience': 'Not specified',\n",
       "  'skills': ['Product Operations', 'Google Play', 'Apps', 'Games'],\n",
       "  'description': 'Not specified'},\n",
       " {'role': 'Senior Account Manager, Large Customer Sales',\n",
       "  'experience': 'Not specified',\n",
       "  'skills': ['Account Management', 'Large Customer Sales'],\n",
       "  'description': 'Not specified'},\n",
       " {'role': 'Growth Manager, App Developer Sales',\n",
       "  'experience': 'Not specified',\n",
       "  'skills': ['Growth Management', 'App Developer Sales'],\n",
       "  'description': 'Not specified'},\n",
       " {'role': 'Security Sales Specialist, Small/Medium Businesses',\n",
       "  'experience': 'Not specified',\n",
       "  'skills': ['Security Sales', 'Small/Medium Businesses'],\n",
       "  'description': 'Not specified'},\n",
       " {'role': 'Network RTL Design Engineer, Google Cloud',\n",
       "  'experience': 'Not specified',\n",
       "  'skills': ['Network RTL Design', 'Google Cloud'],\n",
       "  'description': 'Not specified'},\n",
       " {'role': 'Customer Engineer, Infrastructure Modernization, Public Sector',\n",
       "  'experience': 'Not specified',\n",
       "  'skills': ['Customer Engineering',\n",
       "   'Infrastructure Modernization',\n",
       "   'Public Sector'],\n",
       "  'description': 'Not specified'},\n",
       " {'role': 'Software Engineer II, Multiplatform, Server Driven UI',\n",
       "  'experience': 'Not specified',\n",
       "  'skills': ['Multiplatform', 'Server Driven UI'],\n",
       "  'description': 'Not specified'},\n",
       " {'role': 'Software Engineer III, Audio Machine Learning, Pixel',\n",
       "  'experience': 'Not specified',\n",
       "  'skills': ['Audio Machine Learning', 'Pixel'],\n",
       "  'description': 'Not specified'},\n",
       " {'role': 'Product Engineer, ARM Servers and Storage Systems',\n",
       "  'experience': 'Not specified',\n",
       "  'skills': ['Product Engineering', 'ARM Servers', 'Storage Systems'],\n",
       "  'description': 'Not specified'},\n",
       " {'role': 'Engineering Manager, Unified Autoscaling Team',\n",
       "  'experience': 'Not specified',\n",
       "  'skills': ['Engineering Management', 'Unified Autoscaling'],\n",
       "  'description': 'Not specified'},\n",
       " {'role': 'Account Strategist, SBS Engage, GCS',\n",
       "  'experience': 'Not specified',\n",
       "  'skills': ['Account Strategy', 'SBS Engage', 'GCS'],\n",
       "  'description': 'Not specified'},\n",
       " {'role': 'Software Engineer, gReach Program for People with Disabilities',\n",
       "  'experience': 'Not specified',\n",
       "  'skills': ['Software Engineering', 'gReach Program'],\n",
       "  'description': 'Not specified'},\n",
       " {'role': 'Incident Response Security Consultant, Mandiant, Google Cloud',\n",
       "  'experience': 'Not specified',\n",
       "  'skills': ['Incident Response',\n",
       "   'Security Consulting',\n",
       "   'Mandiant',\n",
       "   'Google Cloud'],\n",
       "  'description': 'Not specified'},\n",
       " {'role': 'Associate, Business Operations and Strategy',\n",
       "  'experience': 'Not specified',\n",
       "  'skills': ['Business Operations', 'Strategy'],\n",
       "  'description': 'Not specified'}]"
      ]
     },
     "execution_count": 28,
     "metadata": {},
     "output_type": "execute_result"
    }
   ],
   "source": [
    "json_res"
   ]
  },
  {
   "cell_type": "code",
   "execution_count": 29,
   "id": "fade5af9",
   "metadata": {},
   "outputs": [],
   "source": [
    "if type(json_res) == dict:\n",
    "  job = json_res.get(\"skills\", [])\n",
    "else:\n",
    "  job = json_res[0].get(\"skills\", [])"
   ]
  },
  {
   "cell_type": "code",
   "execution_count": 30,
   "id": "f6a55543",
   "metadata": {},
   "outputs": [
    {
     "data": {
      "text/plain": [
       "['C++',\n",
       " 'Python',\n",
       " 'Machine Learning',\n",
       " 'Data Structures',\n",
       " 'Algorithms',\n",
       " 'Software Design']"
      ]
     },
     "execution_count": 30,
     "metadata": {},
     "output_type": "execute_result"
    }
   ],
   "source": [
    "job"
   ]
  },
  {
   "cell_type": "code",
   "execution_count": 31,
   "id": "ead131be",
   "metadata": {},
   "outputs": [],
   "source": [
    "prompt_skills_and_question = PromptTemplate.from_template(\"\"\"\n",
    "        ### JOB DESCRIPTION:\n",
    "        {job_description}\n",
    "\n",
    "        ### INSTRUCTION:\n",
    "        You are Mishu Dhar Chando, the CEO of Knowledge Doctor, a YouTube channel specializing in educating individuals on machine learning, deep learning, and natural language processing.\n",
    "        Your expertise lies in bridging the gap between theoretical knowledge and practical applications through engaging content and innovative problem-solving techniques.\n",
    "        Your job is to:\n",
    "        1. Analyze the given job description to identify the required technical skills and match them with the provided skill set to calculate a percentage match.\n",
    "        2. Generate a list of relevant interview questions based on the job description.\n",
    "        3. Return the information in JSON format with the following keys:\n",
    "            - `skills_match`: A dictionary where each key is a skill, and the value is the matching percentage.\n",
    "            - `interview_questions`: A list of tailored questions related to the job description.\n",
    "\n",
    "        Only return the valid JSON.\n",
    "        ### VALID JSON (NO PREAMBLE):\n",
    "\n",
    "        \"\"\")"
   ]
  },
  {
   "cell_type": "code",
   "execution_count": 32,
   "id": "fef09628",
   "metadata": {},
   "outputs": [
    {
     "name": "stdout",
     "output_type": "stream",
     "text": [
      "```json\n",
      "{\n",
      "    \"skills_match\": {\n",
      "        \"C++\": 0,\n",
      "        \"Python\": 100,\n",
      "        \"Machine Learning\": 100,\n",
      "        \"Data Structures\": 100,\n",
      "        \"Algorithms\": 100,\n",
      "        \"Software Design\": 100\n",
      "    },\n",
      "    \"interview_questions\": [\n",
      "        \"How do you approach a machine learning problem, and what are the key steps involved?\",\n",
      "        \"Can you explain the difference between supervised and unsupervised learning, and provide examples of each?\",\n",
      "        \"How do you optimize the performance of a deep learning model, and what are some common techniques used?\",\n",
      "        \"What is your experience with natural language processing, and how do you handle text preprocessing and feature extraction?\",\n",
      "        \"Can you describe a project where you had to design and implement a software system using data structures and algorithms?\",\n",
      "        \"How do you stay up-to-date with the latest developments in machine learning and deep learning, and what resources do you recommend for learning?\",\n",
      "        \"Can you walk me through your process for debugging a machine learning model, and what are some common pitfalls to avoid?\",\n",
      "        \"How do you evaluate the performance of a machine learning model, and what metrics do you use to measure success?\"\n",
      "    ]\n",
      "}\n",
      "```\n"
     ]
    }
   ],
   "source": [
    "chain_skills_and_question = prompt_skills_and_question | llm\n",
    "res = chain_skills_and_question.invoke({\"job_description\": str(job)})\n",
    "print(res.content)"
   ]
  },
  {
   "cell_type": "code",
   "execution_count": null,
   "id": "2ed2cf78",
   "metadata": {},
   "outputs": [],
   "source": [
    "import gradio as gr\n",
    "from langchain_community.document_loaders import WebBaseLoader\n",
    "from langchain_core.output_parsers import JsonOutputParser\n",
    "from langchain_core.prompts import PromptTemplate\n",
    "import pandas as pd\n",
    "import uuid\n",
    "import chromadb\n",
    "from langchain_groq import ChatGroq\n",
    "llm = ChatGroq(\n",
    "    temperature = 0,\n",
    "    groq_api_key = os.environ.get(\"GROQ_API_KEY\"),\n",
    "    model_name = \"llama-3.3-70b-versatile\"\n",
    ")\n",
    "\n",
    "def preproces_job_posting(url, portfolio_csv):\n",
    "  loader = WebBaseLoader(url)\n",
    "  page_data = loader.load().pop().page_content\n",
    "  prompt_extract = PromptTemplate.from_template(\"\"\"\n",
    "        ### SCRAPED TEXT FROM WEBSITE:\n",
    "        {page_data}\n",
    "        ### INSTRUCTION:\n",
    "        The scraped text is from the career's page of a website.\n",
    "        Your job is to extract the job postings and return them in JSON format containing the\n",
    "        following keys: `role`, `experience`, `skills` and `description`.\n",
    "        Only return the valid JSON.\n",
    "        ### VALID JSON (NO PREAMBLE):\n",
    "        \"\"\")\n",
    "  chain_extract = prompt_extract | llm\n",
    "  res_1 = chain_extract.invoke(input = {'page_data': page_data})\n",
    "  json_parser = JsonOutputParser()\n",
    "  json_res = json_parser.parse(res_1.content)\n",
    "\n",
    "  df = pd.read_csv(portfolio_csv)\n",
    "\n",
    "  client = chromadb.PersistentClient('vectorstore')\n",
    "  collections = client.get_or_create_collection(name=\"portfolio_app\")\n",
    "  if not collections.count():\n",
    "    for i, row in  df.iterrows():\n",
    "      collections.add(documents = row['Technology'], ids =[str(uuid.uuid4())])\n",
    "  job  = json_res.get('skills', []) if type(json_res) == dict else json_res[0].get('skills', [])\n",
    "\n",
    "  prompt_skills_and_question = PromptTemplate.from_template(\"\"\"\n",
    "        ### JOB DESCRIPTION:\n",
    "        {job_description}\n",
    "\n",
    "        ### INSTRUCTION:\n",
    "        You are Mishu Dhar Chando, the CEO of Knowledge Doctor, a YouTube channel specializing in educating individuals on machine learning, deep learning, and natural language processing.\n",
    "        Your expertise lies in bridging the gap between theoretical knowledge and practical applications through engaging content and innovative problem-solving techniques.\n",
    "        Your job is to:\n",
    "        1. Analyze the given job description to identify the required technical skills and match them with the provided skill set to calculate a percentage match.\n",
    "        2. Generate a list of relevant interview questions based on the job description.\n",
    "        3. Return the information in JSON format with the following keys:\n",
    "            - `skills_match`: A dictionary where each key is a skill, and the value is the matching percentage.\n",
    "            - `interview_questions`: A list of tailored questions related to the job description.\n",
    "\n",
    "        Only return the valid JSON.\n",
    "        ### VALID JSON (NO PREAMBLE):\n",
    "\n",
    "        \"\"\")\n",
    "  chain_skills_and_question = prompt_skills_and_question | llm\n",
    "  res1 = chain_skills_and_question.invoke({\"job_description\": str(job)})\n",
    "  final_result = json_parser.parse(res1.content)\n",
    "  return final_result\n",
    "\n",
    "def gradio_interface(url, portfolio_csv):\n",
    "  try:\n",
    "    result = preproces_job_posting(url, portfolio_csv)\n",
    "    return result\n",
    "  except Exception as e:\n",
    "    return {\"error\": str(e)}\n",
    "\n",
    "with gr.Blocks(theme='Respair/Shiki@1.2.1') as app:\n",
    "  gr.Markdown(\"# Job Scraping & Analyzer with Interview Preparation Questions Using Gen-AI\")\n",
    "\n",
    "  with gr.Row():\n",
    "    url_input = gr.Textbox(label = \"Website URL\", placeholder=\"Enter the url of the job posting\")\n",
    "    portfolio_input = gr.File(label = \"Upload Portfolio CSV\")\n",
    "\n",
    "  analyze_button = gr.Button(\"Analyze Job Posting\")\n",
    "  output_box = gr.JSON(label = \"Result\")\n",
    "\n",
    "  analyze_button.click(gradio_interface, inputs = [url_input, portfolio_input], outputs = output_box)\n",
    "\n",
    "app.launch()"
   ]
  },
  {
   "cell_type": "code",
   "execution_count": null,
   "id": "345d6384",
   "metadata": {},
   "outputs": [],
   "source": []
  },
  {
   "cell_type": "code",
   "execution_count": null,
   "metadata": {},
   "outputs": [],
   "source": []
  },
  {
   "cell_type": "code",
   "execution_count": null,
   "metadata": {},
   "outputs": [],
   "source": []
  },
  {
   "cell_type": "code",
   "execution_count": null,
   "metadata": {},
   "outputs": [],
   "source": []
  },
  {
   "cell_type": "code",
   "execution_count": null,
   "metadata": {},
   "outputs": [],
   "source": []
  },
  {
   "cell_type": "code",
   "execution_count": null,
   "id": "f4ad04ea",
   "metadata": {},
   "outputs": [],
   "source": []
  }
 ],
 "metadata": {
  "kernelspec": {
   "display_name": "venv",
   "language": "python",
   "name": "python3"
  },
  "language_info": {
   "codemirror_mode": {
    "name": "ipython",
    "version": 3
   },
   "file_extension": ".py",
   "mimetype": "text/x-python",
   "name": "python",
   "nbconvert_exporter": "python",
   "pygments_lexer": "ipython3",
   "version": "3.13.4"
  }
 },
 "nbformat": 4,
 "nbformat_minor": 5
}
